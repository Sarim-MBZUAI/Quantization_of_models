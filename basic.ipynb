{
 "cells": [
  {
   "cell_type": "code",
   "execution_count": 1,
   "metadata": {},
   "outputs": [
    {
     "name": "stdout",
     "output_type": "stream",
     "text": [
      "[150.42 -44.35   0.   145.14 -30.22  83.57  43.63   6.69 149.42  26.71\n",
      " -29.35   6.68 -20.03 -43.35 133.5   70.76  24.14  -9.83 127.01 100.04]\n"
     ]
    }
   ],
   "source": [
    "import numpy as np\n",
    "\n",
    "params = np.random.uniform(low=-50 , high = 150 , size = 20)\n",
    "\n",
    "params[0] = params.max() + 1\n",
    "params[1] = params.min() - 1\n",
    "params[2] = 0\n",
    "\n",
    "params = np.round(params,2)\n",
    "\n",
    "print(params)"
   ]
  },
  {
   "cell_type": "markdown",
   "metadata": {},
   "source": [
    "# Now lets define quantization "
   ]
  },
  {
   "cell_type": "code",
   "execution_count": 2,
   "metadata": {},
   "outputs": [
    {
     "name": "stdout",
     "output_type": "stream",
     "text": [
      "Original:\n",
      "[150.42 -44.35   0.   145.14 -30.22  83.57  43.63   6.69 149.42  26.71\n",
      " -29.35   6.68 -20.03 -43.35 133.5   70.76  24.14  -9.83 127.01 100.04]\n",
      "\n",
      "Asymmetric scale: 0.7638039215686274, zero: 58.0\n",
      "[255   0  58 248  18 167 115  67 254  93  20  67  32   1 233 151  90  45\n",
      " 224 189]\n",
      "\n",
      "Symmetric scale: 1.1844094488188976\n",
      "[127 -37   0 123 -26  71  37   6 126  23 -25   6 -17 -37 113  60  20  -8\n",
      " 107  84]\n"
     ]
    }
   ],
   "source": [
    "# first define clamp\n",
    "\n",
    "def clamp(params_q:np.array , lower_bound: int , upper_bound : int ) -> np.array:\n",
    "\n",
    "    params_q[params_q < lower_bound] = lower_bound\n",
    "    params_q[params_q > upper_bound] = upper_bound\n",
    "\n",
    "    return params_q\n",
    "\n",
    "def asymmetric_quantization(params : np.array , bits: int) -> tuple[np.array , float , int] :\n",
    "\n",
    "    alpha = np.max(params)\n",
    "    beta = np.min(params)\n",
    "\n",
    "    scale = (alpha - beta )/ (2**bits-1)\n",
    "\n",
    "    zero = -1*np.round( beta / scale)\n",
    "    lower_bound ,upper_bound = 0 , 2**bits-1\n",
    "\n",
    "    quantized = clamp(np.round(params / scale + zero) , lower_bound,upper_bound).astype(np.int32)\n",
    "\n",
    "    return quantized , scale , zero\n",
    "\n",
    "def asymmetric_dequantize(params_q:np.array , scale : float , zero : int) -> np.array :\n",
    "    return (params_q - zero) * scale\n",
    "\n",
    "def symmetric_dequantize(params_q : np.array , scale : float) -> np.array :\n",
    "    return params_q * scale\n",
    "\n",
    "def symmetric_quantization(params: np.array, bits: int) -> tuple[np.array, float]:\n",
    "    # Calculate the scale\n",
    "    alpha = np.max(np.abs(params))\n",
    "    scale = alpha / (2**(bits-1)-1)\n",
    "    lower_bound = -2**(bits-1)\n",
    "    upper_bound = 2**(bits-1)-1\n",
    "    # Quantize the parameters\n",
    "    quantized = clamp(np.round(params / scale), lower_bound, upper_bound).astype(np.int32)\n",
    "    return quantized, scale\n",
    "\n",
    "def quantization_error(params: np.array, params_q: np.array):\n",
    "    # calculate the MSE\n",
    "    return np.mean((params - params_q)**2)\n",
    "\n",
    "(asymmetric_q, asymmetric_scale, asymmetric_zero) = asymmetric_quantization(params, 8)\n",
    "(symmetric_q, symmetric_scale) = symmetric_quantization(params, 8)\n",
    "\n",
    "print(f'Original:')\n",
    "print(np.round(params, 2))\n",
    "print('')\n",
    "print(f'Asymmetric scale: {asymmetric_scale}, zero: {asymmetric_zero}')\n",
    "print(asymmetric_q)\n",
    "print('')\n",
    "print(f'Symmetric scale: {symmetric_scale}')\n",
    "print(symmetric_q)\n",
    "\n"
   ]
  },
  {
   "cell_type": "markdown",
   "metadata": {},
   "source": [
    "# Now lets dequantized the quantized array"
   ]
  },
  {
   "cell_type": "code",
   "execution_count": 3,
   "metadata": {},
   "outputs": [
    {
     "name": "stdout",
     "output_type": "stream",
     "text": [
      "Original:\n",
      "[150.42 -44.35   0.   145.14 -30.22  83.57  43.63   6.69 149.42  26.71\n",
      " -29.35   6.68 -20.03 -43.35 133.5   70.76  24.14  -9.83 127.01 100.04]\n",
      "\n",
      "Dequantize Asymmetric:\n",
      "[150.47 -44.3    0.   145.12 -30.55  83.25  43.54   6.87 149.71  26.73\n",
      " -29.02   6.87 -19.86 -43.54 133.67  71.03  24.44  -9.93 126.79 100.06]\n",
      "\n",
      "Dequantize Symmetric:\n",
      "[150.42 -43.82   0.   145.68 -30.79  84.09  43.82   7.11 149.24  27.24\n",
      " -29.61   7.11 -20.13 -43.82 133.84  71.06  23.69  -9.48 126.73  99.49]\n"
     ]
    }
   ],
   "source": [
    "params_deq_asymmetric = asymmetric_dequantize(asymmetric_q, asymmetric_scale, asymmetric_zero)\n",
    "params_deq_symmetric = symmetric_dequantize(symmetric_q, symmetric_scale)\n",
    "\n",
    "print(f'Original:')\n",
    "print(np.round(params, 2))\n",
    "print('')\n",
    "print(f'Dequantize Asymmetric:')\n",
    "print(np.round(params_deq_asymmetric,2))\n",
    "print('')\n",
    "print(f'Dequantize Symmetric:')\n",
    "print(np.round(params_deq_symmetric, 2))"
   ]
  },
  {
   "cell_type": "code",
   "execution_count": 4,
   "metadata": {},
   "outputs": [
    {
     "name": "stdout",
     "output_type": "stream",
     "text": [
      "  Asymmetric error: 0.04\n",
      "   Symmetric error: 0.16\n"
     ]
    }
   ],
   "source": [
    "print(f'{\"Asymmetric error: \":>20}{np.round(quantization_error(params, params_deq_asymmetric), 2)}')\n",
    "print(f'{\"Symmetric error: \":>20}{np.round(quantization_error(params, params_deq_symmetric), 2)}')\n"
   ]
  },
  {
   "cell_type": "markdown",
   "metadata": {},
   "source": [
    "# Now lets compare min-max and percentile selection strategies"
   ]
  },
  {
   "cell_type": "code",
   "execution_count": 11,
   "metadata": {},
   "outputs": [
    {
     "name": "stdout",
     "output_type": "stream",
     "text": [
      "Original:\n",
      "[ 150.42  -44.35    0.    145.14  -30.22   83.57   43.63    6.69  149.42\n",
      "   26.71  -29.35    6.68  -20.03  -43.35  133.5    70.76   24.14   -9.83\n",
      "  127.01 1000.  ]\n",
      "\n",
      "Asymmetric (min-max) scale: 4.095490196078431, zero: 11.0\n",
      "[ 48   0  11  46   4  31  22  13  47  18   4  13   6   0  44  28  17   9\n",
      "  42 255]\n",
      "\n",
      "Asymmetric (percentile) scale: 4.089152541176461, zero: 11.0\n",
      "[ 48   0  11  46   4  31  22  13  48  18   4  13   6   0  44  28  17   9\n",
      "  42 255]\n"
     ]
    }
   ],
   "source": [
    "params[-1] = 1000\n",
    "\n",
    "def clamp(params_q: np.array, lower_bound: int, upper_bound: int) -> np.array:\n",
    "    params_q[params_q < lower_bound] = lower_bound\n",
    "    params_q[params_q > upper_bound] = upper_bound\n",
    "    return params_q\n",
    "\n",
    "def asymmetric_quantization(params: np.array, bits: int) -> tuple[np.array, float, int]:\n",
    "    alpha = np.max(params)\n",
    "    beta = np.min(params)\n",
    "    scale = (alpha - beta) / (2**bits-1)\n",
    "    zero = -1*np.round(beta / scale)\n",
    "    lower_bound, upper_bound = 0, 2**bits-1\n",
    "    quantized = clamp(np.round(params / scale + zero), lower_bound, upper_bound).astype(np.int32)\n",
    "    return quantized, scale, zero\n",
    "\n",
    "def asymmetric_quantization_percentile(params: np.array, bits: int, percentile: float = 99.99) -> tuple[np.array, float, int]:\n",
    "    # find the percentile value\n",
    "    alpha = np.percentile(params, percentile)\n",
    "    beta = np.percentile(params, 100-percentile)\n",
    "    scale = (alpha - beta) / (2**bits-1)\n",
    "    zero = -1*np.round(beta / scale)\n",
    "    lower_bound, upper_bound = 0, 2**bits-1\n",
    "    quantized = clamp(np.round(params / scale + zero), lower_bound, upper_bound).astype(np.int32)\n",
    "    return quantized, scale, zero\n",
    "\n",
    "\n",
    "def asymmetric_dequantize(params_q: np.array, scale: float, zero: int) -> np.array:\n",
    "    return (params_q - zero) * scale\n",
    "\n",
    "def quantization_error(params: np.array, params_q: np.array):\n",
    "    # calculate the MSE\n",
    "    return np.mean((params - params_q)**2)\n",
    "\n",
    "(asymmetric_q, asymmetric_scale, asymmetric_zero) = asymmetric_quantization(params, 8)\n",
    "(asymmetric_q_percentile, asymmetric_scale_percentile, asymmetric_zero_percentile) = asymmetric_quantization_percentile(params, 8)\n",
    "\n",
    "print(f'Original:')\n",
    "print(np.round(params, 2))\n",
    "print('')\n",
    "print(f'Asymmetric (min-max) scale: {asymmetric_scale}, zero: {asymmetric_zero}')\n",
    "print(asymmetric_q)\n",
    "print(f'')\n",
    "print(f'Asymmetric (percentile) scale: {asymmetric_scale_percentile}, zero: {asymmetric_zero_percentile}')\n",
    "print(asymmetric_q_percentile)"
   ]
  },
  {
   "cell_type": "code",
   "execution_count": 12,
   "metadata": {},
   "outputs": [
    {
     "name": "stdout",
     "output_type": "stream",
     "text": [
      "Original:\n",
      "[ 150.42  -44.35    0.    145.14  -30.22   83.57   43.63    6.69  149.42\n",
      "   26.71  -29.35    6.68  -20.03  -43.35  133.5    70.76   24.14   -9.83\n",
      "  127.01 1000.  ]\n",
      "\n",
      "Dequantized (min-max):\n",
      "[151.53 -45.05   0.   143.34 -28.67  81.91  45.05   8.19 147.44  28.67\n",
      " -28.67   8.19 -20.48 -45.05 135.15  69.62  24.57  -8.19 126.96 999.3 ]\n",
      "\n",
      "Dequantized (percentile):\n",
      "[151.3  -44.98   0.   143.12 -28.62  81.78  44.98   8.18 151.3   28.62\n",
      " -28.62   8.18 -20.45 -44.98 134.94  69.52  24.53  -8.18 126.76 997.75]\n"
     ]
    }
   ],
   "source": [
    "params_deq_asymmetric = asymmetric_dequantize(asymmetric_q, asymmetric_scale, asymmetric_zero)\n",
    "params_deq_asymmetric_percentile = asymmetric_dequantize(asymmetric_q_percentile, asymmetric_scale_percentile, asymmetric_zero_percentile)\n",
    "\n",
    "print(f'Original:')\n",
    "print(np.round(params, 2))\n",
    "print('')\n",
    "print(f'Dequantized (min-max):')\n",
    "print(np.round(params_deq_asymmetric,2))\n",
    "print('')\n",
    "print(f'Dequantized (percentile):')\n",
    "print(np.round(params_deq_asymmetric_percentile,2))"
   ]
  },
  {
   "cell_type": "code",
   "execution_count": 13,
   "metadata": {},
   "outputs": [
    {
     "name": "stdout",
     "output_type": "stream",
     "text": [
      "     Error (min-max) excluding outlier: 1.84\n",
      "  Error (percentile) excluding outlier: 1.81\n"
     ]
    }
   ],
   "source": [
    "print(f'{\"Error (min-max) excluding outlier: \":>40}{np.round(quantization_error(params[:-1], params_deq_asymmetric[:-1]),2)}')\n",
    "print(f'{\"Error (percentile) excluding outlier: \":>40}{np.round(quantization_error(params[:-1], params_deq_asymmetric_percentile[:-1]),2)}')"
   ]
  },
  {
   "cell_type": "markdown",
   "metadata": {},
   "source": [
    "Error including the outlier"
   ]
  },
  {
   "cell_type": "code",
   "execution_count": 15,
   "metadata": {},
   "outputs": [
    {
     "name": "stdout",
     "output_type": "stream",
     "text": [
      "     Error (min-max) including outlier: 1.77\n",
      "  Error (percentile) including outlier: 1.97\n"
     ]
    }
   ],
   "source": [
    "print(f'{\"Error (min-max) including outlier: \":>40}{np.round(quantization_error(params, params_deq_asymmetric),2)}')\n",
    "print(f'{\"Error (percentile) including outlier: \":>40}{np.round(quantization_error(params, params_deq_asymmetric_percentile),2)}')"
   ]
  },
  {
   "cell_type": "code",
   "execution_count": null,
   "metadata": {},
   "outputs": [],
   "source": []
  }
 ],
 "metadata": {
  "kernelspec": {
   "display_name": "AI702",
   "language": "python",
   "name": "python3"
  },
  "language_info": {
   "codemirror_mode": {
    "name": "ipython",
    "version": 3
   },
   "file_extension": ".py",
   "mimetype": "text/x-python",
   "name": "python",
   "nbconvert_exporter": "python",
   "pygments_lexer": "ipython3",
   "version": "3.12.1"
  }
 },
 "nbformat": 4,
 "nbformat_minor": 2
}
